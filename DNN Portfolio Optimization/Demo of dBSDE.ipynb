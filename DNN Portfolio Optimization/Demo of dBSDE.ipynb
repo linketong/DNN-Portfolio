{
 "cells": [
  {
   "cell_type": "code",
   "execution_count": 1,
   "id": "5c1718f5",
   "metadata": {},
   "outputs": [],
   "source": [
    "import tensorflow as tf\n",
    "import numpy as np\n",
    "import pandas as pd\n",
    "from math import isnan\n",
    "import sys\n",
    "import os\n",
    "from sklearn.model_selection import train_test_split\n",
    "from config import Config\n",
    "from equation import get_equation\n",
    "from solver import dBSDE\n",
    "import matplotlib.pyplot as plt\n",
    "%matplotlib inline"
   ]
  },
  {
   "cell_type": "markdown",
   "id": "c4c20646",
   "metadata": {},
   "source": [
    "# Dyanmic portfolio optimization\n",
    "\n",
    "The investor is facing a optimization problem that she wants to maiximize her expected utility over the investment horizon given the initial wealth and the access to a financial market consists of a riskless asset and some risky assets. The opitmization problem can be formulated as follows\n",
    "\\begin{align}\n",
    "V_{0} & =\\sup_{({\\pi},c)\\in\\mathcal{A}} \\mathbb{E}[\\int_{0}^{T}f(c_{s,}V_{s}^{(\\pi,c)})ds+U(T,\\mathcal{W}_{T}^{({\\pi},c)})]\\nonumber \\\\\n",
    "\\text{s.t. }d{S}_{t} &=\\text{diag}({S}_{t})\\big[\\big(r(t,{X}_{t})-p(t,X_t)\\big)\\mathbf{1}_{d}dt+{\\sigma}(t,{X}_{t})\\big({{\\theta}}(t,{X}_{t})dt+d{W}_{t}\\big)\\big]\\\\\n",
    "d\\mathcal{W}_{t}^{({\\pi},c)} & =\\mathcal{W}_{t}^{({\\pi},c)}[r_{t}(X_{t})dt+{\\pi}_{t}^{\\intercal}{{\\sigma}}_{t}({X}_{t})({{\\theta}}_{t}({X}_{t})dt+d{W}_{t})]-c_{t}dt\\label{eq:3}\\\\\n",
    "d{X}_{t} & =\\mathbf{{\\alpha}}(t,{X}_{t})dt+{{\\beta}}(t,{X}_{t})d{W}_{t}\n",
    "\\end{align}\n",
    "\n",
    "## Recursive utility\n",
    "\n",
    "Recursive utility is also known as the continuous-time Epstein-Zin utility. The aggregator function $f$ is given by\n",
    "\n",
    "$$\n",
    "f(c,v):=\\delta\\vartheta v[(\\frac{c}{((1-\\gamma)v)^{\\frac{1}{1-\\gamma}}})^{1-\\frac{1}{\\psi}}-1]\n",
    "$$\n",
    "where\n",
    "\n",
    "- $\\delta$: rate of time preference\n",
    "- $\\gamma$: relative risk aversion\n",
    "- $\\psi$:EIS (elasticity of intertemporal substitution)\n",
    "- $\\vartheta:=\\frac{1-\\gamma}{1-\\phi}$, $\\phi:=1/\\psi$\n",
    "\n",
    "We consider the bequest utility $U(T,c)=e^{-\\delta T}\\frac{c^{1-\\gamma}}{1-\\gamma}$\n",
    "\n",
    "The standard time-additive power utility is a special case of the recursive utility.\n",
    "\n",
    "Note that when $\\gamma=1/\\psi$, Epstein-Zin utility reduces to power utility, in which case \n",
    "$$\n",
    "V_0=\\mathbb{E}[\\int_{0}^{T}e^{-s\\beta}u(c_t)ds+e^{-\\delta T}u(\\mathcal{W}_T^{(\\pi,c)})]\n",
    "$$\n",
    "and\n",
    "$$\n",
    "f=\\delta\\big(\\frac{c^{1-\\gamma}}{1-\\gamma}\\big)-\\delta v\n",
    "$$"
   ]
  },
  {
   "cell_type": "markdown",
   "id": "9a72f1b8",
   "metadata": {},
   "source": [
    "## Optimal consumption-portfolio plan\n",
    "By the homothetic property of Epstein–Zin utility, we speculate the utility evaluated at the optimal strategy has the decomposition $V_{t}^{*}=\\frac{\\mathcal{W}_{t}^{1-\\gamma}}{1-\\gamma}e^{Y_{t}},\\;t\\in[0,T]$ where Y satisfies the BSDE $$Y_{t}=\\eta + \\int_{t}^{T}g(s,Y_{s},{Z}_{s})ds-\\int_{t}^{T}{Z}_{s}d{W}_{s}$$\n",
    "\n",
    "The optimal consumption-portfolio plan is determined by $Y$ and $Z$\n",
    "\\begin{align*}\n",
    "c_t^{*}/\\mathcal{W_t} & =\\delta^{\\psi}e^{-\\frac{\\psi}{\\vartheta}Y_t}\\\\\n",
    "{\\pi_t}^{*} & =\\frac{1}{\\gamma}{\\sigma_t}^{-1}{\\theta_t}+\\frac{1}{\\gamma}{\\sigma_t}^{-1}{Z_t}\n",
    "\\end{align*}\n",
    "\n",
    "Therefore, our goal is to solve the following FBSDEs\n",
    "\\begin{align*}\n",
    "Y_{t} &=\\eta+\\int_{t}^{T}f(s,{X}_{s,}Y_{s},{Z}_{s})ds-\\int_{t}^{T}{Z}_{s}^{\\intercal}d{W}_{s}\\\\\n",
    "{X}_{t} &={x}+\\int_{0}^{t}{\\alpha}(s,{X}_{s})ds+\\int_{0}^{t}{\\beta}(t,{X})d{W}_{s}\n",
    "\\end{align*}\n",
    "where\n",
    "$$\n",
    "f(t,{X},Y,{Z})\t=(1-\\gamma)r(t,{X})+\\frac{1-\\gamma}{2\\gamma}\\parallel{\\theta}(t,{X})\\parallel^{2}-\\delta\\vartheta+\\frac{\\vartheta}{\\psi}\\delta^{\\psi}e^{-\\frac{\\psi}{\\vartheta}Y}+\\frac{1-\\gamma}{\\gamma}{\\theta}^{\\intercal}{Z}+\\frac{1}{2\\gamma}\\parallel{Z}\\parallel^{2}\n",
    "$$\n"
   ]
  },
  {
   "cell_type": "markdown",
   "id": "da45e113",
   "metadata": {},
   "source": [
    "## DNN algorithm\n",
    "\n",
    "Consider a partition of the time interval $[0,T]$, $\\mathcal{T}$:\n",
    "$0=t_{0}\\leq t_{1}\\leq\\ldots\\leq t_{N}=T$, with $\\Delta t=T/N$ and\n",
    "$t_{i}=i\\Delta t$, for all $i=0,1,\\ldots,N$, and $\\Delta{W}_{i}={W}_{t_{i+1}}-{W}_{t_{i}}$,\n",
    "for all $i=0,1,\\ldots,N-1$. \n",
    "\n",
    "Inspired by the nonlinear Feynman-Kac\n",
    "formula, we can view\n",
    "${Z}_{t}$ as a function of ${X}_{t}$ and $Y_{t}$. Then our\n",
    "goal becomes finding approximation functions\n",
    "$\\phi_{i}:\\mathbb{R}^{m}\\times\\mathbb{R}\\rightarrow\\mathbb{R}^{d}$\n",
    "for $i=0,1,\\ldots,N-1$ such that $\\phi_{i}(\\hat{{X}}_{t_{i}},\\hat{Y}_{t_{i}})$\n",
    "can serve as good approximation of  $Z_{t_{i}}$. \n",
    "\n",
    "The initial value of $Y$ can be set as another training variable $\\mu_0$ which will later be determined by gradient decsent.\n",
    "\n",
    "With the DNN functions $\\phi_{i}(0\\leq i\\leq N-1)$ and the training variable $\\mu_0$, we can perform the Monte Carlo simulation based on the Euler scheme\n",
    "$$\n",
    "\\begin{cases}\n",
    "\\hat{{X}}_{0}={x},\\quad\\hat{Y}_{0}=\\mu_{0},\\\\\n",
    "\\hat{{X}}_{t_{i+1}}=\\hat{{X}}_{t_{i}}+{\\alpha}(t_{i},{X}_{t_{i}})\\Delta t+{\\beta}(t_{i},\\hat{{X}}_{t_{i}})\\Delta{W}_{i}\\\\\n",
    "\\hat{{Z}}_{t_{i}}=\\phi_{i}(\\hat{{X}}_{t_{i}},\\hat{Y}_{t_{i}})\\\\\n",
    "\\hat{Y}_{t_{i+1}}=\\hat{Y}_{t_{i}}-f(t_{i},\\hat{{X}}_{t_{i}},\\hat{Y}_{t_{i}},\\hat{{Z}}_{t_{i}})\\Delta t+\\hat{{Z}}_{t_{i}}\\Delta{W}_{i}\n",
    "\\end{cases}\n",
    "$$\n",
    "To determine $\\mu_{0}$ and $\\phi_{i}(0\\leq i\\leq N-1)$, we solve the following stochastic optimization problem\n",
    "$$\n",
    "\\inf_{\\mu_{0},\\phi_{i}\\in\\mathcal{N}(\\Phi_{i})}J(\\mu_0,\\Phi_{0},\\ldots,\\Phi_{N-1}):=\\mathbb{E}\\vert \\eta-\\hat{Y}_{T}\\vert^{2}\n",
    "$$\n",
    "where $\\mathcal{N}(\\Phi)$ denotes the set of neural networks with paremeters summarized in the set $\\Phi$"
   ]
  },
  {
   "cell_type": "markdown",
   "id": "8882ea55",
   "metadata": {},
   "source": [
    "# Stochastic volatility model\n",
    "\n",
    "In this example, the finiancial market has only one risky assets governed by the Heston stochastic Heston model. This is a one dimesional problem with a closed form solution under some specific settings in terms of the value of Risk Aversion and EIS. We can compare the numerical result with the closed form solution to test the accuracy of the DNN method.\n",
    "\n",
    "$$dS_{t}^{1}=S_{t}[(r+\\bar{\\mu}X_{t})dt+\\sqrt{X_{t}}dW_{t}^{1}]$$\n",
    "$$dX_{t}=\\kappa(\\bar{X}-X_{t})dt+\\bar{\\beta}\\sqrt{X_{t}}(\\rho dW_{t}^{1}+\\sqrt{1-\\rho^{2}}dW_{t}^{2})$$\n",
    "$$\\kappa = 5,\\quad \\bar{X}=0.15^2, \\quad \\bar{\\mu}=3.11, \\quad \\bar{\\beta}=0.25,\\quad \\rho = -0.5$$"
   ]
  },
  {
   "cell_type": "code",
   "execution_count": 2,
   "id": "1a6558fa",
   "metadata": {},
   "outputs": [],
   "source": [
    "problem_name = \"Heston\"\n",
    "config = Config(horizon=2, steps=20, gamma=2, psi=0.125, x0=0.25)\n",
    "equation = get_equation(problem_name, config)"
   ]
  },
  {
   "cell_type": "markdown",
   "id": "96774a43",
   "metadata": {},
   "source": [
    "* `horizon`: The investment horizon $T$\n",
    "* `steps`: the number of time steps in one year. $n$, i.e. $\\Delta t = 1/n$\n",
    "* `gamma`: Risk Aversion\n",
    "* `psi`: EIS\n",
    "* `x0` : the inital value of the state variable, which is the variance here."
   ]
  },
  {
   "cell_type": "markdown",
   "id": "e62aed95",
   "metadata": {},
   "source": [
    "## Generate trainig data"
   ]
  },
  {
   "cell_type": "markdown",
   "id": "7779d726",
   "metadata": {},
   "source": [
    "* `equation`: define the FBSDE related Heston Model\n",
    "* `n_epoch`: how many times the training procesure repeats\n",
    "* `batch_size`: how many traing data in one epoch of training\n",
    "* `test_size`: number of test data for one epoch\n",
    "To better control the comparison with other numerical method, I generate all the Brownian motion first using a fixed seed, and treat the Brownian motions as the *input training data* as that in machine learning context."
   ]
  },
  {
   "cell_type": "code",
   "execution_count": 3,
   "id": "8c64c149",
   "metadata": {},
   "outputs": [],
   "source": [
    "batch_size = 512\n",
    "test_size = 1280\n",
    "n_epochs = 20\n",
    "total_sample_size = batch_size * n_epochs + test_size\n",
    "test_size_ratio = test_size / total_sample_size\n",
    "np.random.seed(1)\n",
    "input_data = np.random.normal(0, equation.sqrt_delta_t, (total_sample_size, equation.dim * equation.num_time_interval))\n",
    "outcome_data = np.ones([total_sample_size, 1])\n",
    "X_train, X_test, y_train, y_test = train_test_split( input_data, outcome_data, test_size=test_size_ratio, random_state=42)\n",
    "train_ds = tf.data.Dataset.from_tensor_slices(X_train).batch(batch_size)\n",
    "test_ds = tf.data.Dataset.from_tensor_slices(X_test).batch(test_size)"
   ]
  },
  {
   "cell_type": "markdown",
   "id": "72238536",
   "metadata": {},
   "source": [
    "## Train model"
   ]
  },
  {
   "cell_type": "code",
   "execution_count": 4,
   "id": "455fab6e",
   "metadata": {
    "scrolled": true
   },
   "outputs": [
    {
     "name": "stdout",
     "output_type": "stream",
     "text": [
      "Epoch: 1 Elapsed time:  10.29696774482727 y0:  1.1577301 z0:  -0.0234327409 Test loss:  0.000877402141 lr:  0.01\n",
      "Epoch: 2 Elapsed time:  11.271549701690674 y0:  1.1379776 z0:  -0.0436525941 Test loss:  1.82423973e-05 lr:  0.01\n",
      "Epoch: 3 Elapsed time:  12.23916506767273 y0:  1.13607848 z0:  -0.0539336205 Test loss:  4.67429209e-06 lr:  0.01\n",
      "Epoch: 4 Elapsed time:  13.211825847625732 y0:  1.13809538 z0:  -0.0566247106 Test loss:  9.32364742e-07 lr:  0.01\n",
      "Epoch: 5 Elapsed time:  14.18775987625122 y0:  1.13756526 z0:  -0.0563529693 Test loss:  2.71212855e-07 lr:  0.01\n",
      "Epoch: 6 Elapsed time:  15.166388750076294 y0:  1.1374805 z0:  -0.0558502041 Test loss:  2.16808345e-07 lr:  0.01\n",
      "Epoch: 7 Elapsed time:  16.133893728256226 y0:  1.1376555 z0:  -0.0557476021 Test loss:  1.97283697e-07 lr:  0.01\n",
      "Epoch: 8 Elapsed time:  17.108829498291016 y0:  1.13755035 z0:  -0.0557993613 Test loss:  1.83004232e-07 lr:  0.01\n",
      "Epoch: 9 Elapsed time:  18.086017847061157 y0:  1.13758564 z0:  -0.0558170043 Test loss:  1.78794679e-07 lr:  0.01\n",
      "Epoch: 10 Elapsed time:  19.062939167022705 y0:  1.13758397 z0:  -0.0558155887 Test loss:  1.74238679e-07 lr:  0.01\n",
      "Epoch: 11 Elapsed time:  20.033748149871826 y0:  1.13758075 z0:  -0.0558151901 Test loss:  1.7229253e-07 lr:  0.01\n",
      "Epoch: 12 Elapsed time:  21.00860071182251 y0:  1.13758266 z0:  -0.0558166169 Test loss:  1.70343199e-07 lr:  0.01\n",
      "Epoch: 13 Elapsed time:  21.99401068687439 y0:  1.13758337 z0:  -0.0558179058 Test loss:  1.68867288e-07 lr:  0.005\n",
      "Epoch: 14 Elapsed time:  22.970227479934692 y0:  1.13758397 z0:  -0.0558186881 Test loss:  1.67508432e-07 lr:  0.0025\n",
      "Epoch: 15 Elapsed time:  23.93724751472473 y0:  1.13758469 z0:  -0.0558193773 Test loss:  1.66403e-07 lr:  0.00125\n",
      "Epoch: 16 Elapsed time:  24.903284311294556 y0:  1.13758552 z0:  -0.0558200888 Test loss:  1.6554722e-07 lr:  0.000625\n",
      "Epoch: 17 Elapsed time:  25.867992401123047 y0:  1.13758636 z0:  -0.0558208339 Test loss:  1.6508038e-07 lr:  0.0003125\n",
      "Epoch: 18 Elapsed time:  26.851146459579468 y0:  1.13758731 z0:  -0.0558217242 Test loss:  1.65181433e-07 lr:  0.00015625\n",
      "Early stopping at plateau\n"
     ]
    }
   ],
   "source": [
    "model = dBSDE(equation, y0=1.0)\n",
    "history = model.custom_fit(train_ds=train_ds, test_ds=test_ds, epochs=n_epochs)"
   ]
  },
  {
   "cell_type": "markdown",
   "id": "b9a17270",
   "metadata": {},
   "source": [
    "## Exact solution"
   ]
  },
  {
   "cell_type": "code",
   "execution_count": 5,
   "id": "542b2353",
   "metadata": {
    "scrolled": true
   },
   "outputs": [
    {
     "name": "stdout",
     "output_type": "stream",
     "text": [
      "Y0_true: 1.1420, Z0_true: -0.0554\n"
     ]
    }
   ],
   "source": [
    "def exact_solution(equation):\n",
    "    if equation.psi == 2-equation.gamma+(equation.rho*(1-equation.gamma))**2/equation.gamma:\n",
    "        Y_exact = equation.h_exact(config.x_init, 0, config.total_time)\n",
    "        Z_exact = equation.beta_bar * np.sqrt(config.x_init) * equation.hx_exact(config.x_init, 0, config.total_time)\n",
    "        print(f\"Y0_true: {Y_exact:.4f}, Z0_true: {Z_exact:.4f}\")\n",
    "    else:\n",
    "        print('No exact solution')\n",
    "exact_solution(equation)"
   ]
  },
  {
   "cell_type": "markdown",
   "id": "074bd298",
   "metadata": {},
   "source": [
    "The exact solution is $Y_0=1.142,Z_0=-0.0554$, the numerical result given by DNN is $\\hat{Y}_0=1.138, \\hat{Z_0}=-0.0558$."
   ]
  },
  {
   "cell_type": "markdown",
   "id": "c52d1938",
   "metadata": {},
   "source": [
    "# Large scale model"
   ]
  },
  {
   "cell_type": "markdown",
   "id": "777a5d56",
   "metadata": {},
   "source": [
    "In the financial market, There are $d$ Brownian motions and $d+1$ securities, $d-1$ of which are stock portfolios, one mutual fund of long term bounds and one riskless asset. There are $2d$ state variables: \n",
    " $d$ marketprices of risk, one interest rate and  $d-1$ dividends affecting the evolution of the market prices of risks.\n",
    "\n",
    "The dynamics of the interest rate $r$ and the price of the bond portfolio ($S_{b}$) are \n",
    "\\begin{align}\n",
    "dr_{t} & =\\kappa_{r}(\\bar{r}-r_{t})(1+\\phi_{r}(\\bar{r}-r_{t})^{2\\eta_{r}})dt-\\sigma_{r}r_{t}^{\\gamma_{r}}dW_{1t}\\nonumber \\\\\n",
    "dS_{bt} & =S_{bt}\\Big[(r_{t}+\\sigma_{b}\\theta_{1t})dt+\\sigma_{b}dW_{1t}\\Big]\\label{eq:sb}\n",
    "\\end{align}\n",
    "The first stock portfolio is the market portfolio of securities, which\n",
    "depends on $(W_{1},W_{2})$\n",
    "\\begin{align}\n",
    "dS_{1t}+S_{1t}p_{2t}dt & =S_{1t}\\Big(r_{t}+\\sigma_{1}(\\rho_{11}\\theta_{1t}+\\sqrt{1-\\rho_{11}^{2}}\\theta_{2,t})\\Big)dt\\label{eq:s1}\\\\\n",
    " & \\quad+S_{1t}\\sigma_{1}\\Big(\\rho_{11}dW_{1t}+\\sqrt{1-\\rho_{11}^{2}}dW_{2t}\\Big)\\nonumber \n",
    "\\end{align}\n",
    "The next $d-2$ funds are independent with each other as well as the\n",
    "market portfolio and the bond fund, i.e. the fund $j$ is perfectly\n",
    "correlated with $W_{j+1}$, $\\rho_{jk}=0$, for $j=2,\\ldots,d-1$.\n",
    "They are pure hedge funds. The dynamics of these $d-2$ funds are\n",
    "as shown as follws\n",
    "\\begin{equation}\n",
    "dS_{it}+S_{it}p_{i+1,t}dt=S_{it}\\Big(r_{t}+\\sigma_{i}\\theta_{i+1,t}\\Big)dt+S_{it}\\sigma_{i}dW_{i+1,t},\\ i=2,\\cdots,d-1\\label{eq:si}\n",
    "\\end{equation}\n",
    "\n"
   ]
  },
  {
   "cell_type": "markdown",
   "id": "7fbdc30e",
   "metadata": {},
   "source": [
    "The state variables are \n",
    "$$ \\big(r,p_{2},\\ldots,p_{d},\\theta_{1},\\theta_{2}\\ldots,\\theta_{d}\\big)_{2d} $$\n",
    "These $2d$ state variables all have their own dynamics. For \n",
    "The market price of the bond portfolio satisfies the following process\n",
    "without dividend effect.\n",
    "\\begin{align*}\n",
    "d\\theta_{1t} & =\\big(\\kappa_{\\theta_{1}}(\\bar{\\theta}_{1}-\\theta_{1t})+\\mu_{\\theta_{1}}^{r}(r_{t},\\theta_{1t})\\big)dt+\\sigma_{\\theta_{1}}(\\theta_{1t})dW_{1t}\\\\\n",
    "\\sigma_{\\theta_{1}}(\\theta_{1t}) & =\\tilde{\\sigma}_{\\theta_{1}}(\\theta_{1l}+\\theta_{1t})^{\\gamma_{1\\theta_{1}}}(1-(\\frac{\\theta_{1l}+\\theta_{1t}}{\\theta_{1l}+\\theta_{1u}})^{1-\\gamma_{1\\theta_{1}}})^{\\gamma_{2\\theta_{1}}}\\\\\n",
    "\\mu_{\\theta_{1}}^{r}(r_{t},\\theta_{1t}) & =\\delta_{r1}(\\bar{r}-r_{t})(\\theta_{1l}+\\theta_{1t})(1-\\frac{\\theta_{1l}+\\theta_{1t}}{\\theta_{1l}+\\theta_{1u}})\n",
    "\\end{align*}\n",
    "\n",
    "For $i=2,\\ldots,d$, the pair $(\\theta_{i},p_{i})$ satisfies identical\n",
    "process as follows:\n",
    "\\begin{align*}\n",
    "d\\theta_{it} & =\\big(\\kappa(\\bar{\\theta}-\\theta_{it})+\\mu_{\\theta}^{r}(r_{t},\\theta_{it})+\\mu_{\\theta}^{p}(p_{t},\\theta_{it})\\big)dt+\\sigma_{\\theta}(\\theta_{it})dW_{it}\\\\\n",
    "dp_{it} & =\\kappa_{p}(\\bar{p}-p_{it})(1+\\phi_{p}(\\bar{p}-p_{it})^{2\\eta_{p}})dt-\\sigma_{p}p_{it}^{\\gamma_{p}}dW_{it}\n",
    "\\end{align*}\n",
    "\\begin{align*}\n",
    "\\mu_{\\theta}^{r}(r_{t},\\theta_{it}) & =\\delta_{r\\theta}(\\bar{r}-r_{t})(\\theta_{l}+\\theta_{it})(1-\\frac{\\theta_{l}+\\theta_{it}}{\\theta_{l}+\\theta_{u}})\\\\\n",
    "\\mu_{\\theta}^{p}(p_{t},\\theta_{it}) & =\\delta_{p\\theta}(\\bar{p}-p_{t})(\\theta_{l}+\\theta_{it})(1-\\frac{\\theta_{l}+\\theta_{it}}{\\theta_{l}+\\theta_{u}})\\\\\n",
    "\\sigma_{\\theta}(\\theta_{it}) & =\\tilde{\\sigma}_{\\theta}(\\theta_{l}+\\theta_{it})^{\\gamma_{1\\theta}}(1-(\\frac{\\theta_{l}+\\theta_{it}}{\\theta_{l}+\\theta_{u}})^{1-\\gamma_{1\\theta}})^{\\gamma_{2\\theta}}\n",
    "\\end{align*}"
   ]
  },
  {
   "cell_type": "code",
   "execution_count": 5,
   "id": "ace6a62f",
   "metadata": {},
   "outputs": [],
   "source": [
    "problem_name = \"LargeScale\"\n",
    "config = Config(d=100, horizon=2, steps=20, gamma=4, psi=1.2, x0=0.5)\n",
    "equation = get_equation(problem_name, config)"
   ]
  },
  {
   "cell_type": "markdown",
   "id": "f6eea511",
   "metadata": {},
   "source": [
    "Let's take dimesion $d=100$ as an example. We choose the investment horizon to be 2 years, the Risk Aversion to be 4 and the EIS to be 1.2. The training time of 20 epochs is around 90s"
   ]
  },
  {
   "cell_type": "code",
   "execution_count": 6,
   "id": "2e1f6acd",
   "metadata": {},
   "outputs": [],
   "source": [
    "batch_size = 512\n",
    "test_size = 1280\n",
    "n_epochs = 20\n",
    "total_sample_size = batch_size * n_epochs + test_size\n",
    "test_size_ratio = test_size / total_sample_size\n",
    "np.random.seed(1)\n",
    "input_data = np.random.normal(0, equation.sqrt_delta_t, (total_sample_size, equation.dim * equation.num_time_interval))\n",
    "outcome_data = np.ones([total_sample_size, 1])\n",
    "X_train, X_test, y_train, y_test = train_test_split( input_data, outcome_data, test_size=test_size_ratio, random_state=42)\n",
    "train_ds = tf.data.Dataset.from_tensor_slices(X_train).batch(batch_size)\n",
    "test_ds = tf.data.Dataset.from_tensor_slices(X_test).batch(test_size)"
   ]
  },
  {
   "cell_type": "code",
   "execution_count": 7,
   "id": "ce7896db",
   "metadata": {
    "scrolled": false
   },
   "outputs": [
    {
     "name": "stdout",
     "output_type": "stream",
     "text": [
      "Epoch: 1 Elapsed time:  23.073079347610474 y0:  1.18148184 z0:  [[0.00732259732 0.0015855619 0.00325800665 ... -0.00238456856 -0.000908814487 0.00350722275]] Test loss:  0.00149167969 lr:  0.01\n",
      "Epoch: 2 Elapsed time:  26.654821634292603 y0:  1.24709189 z0:  [[0.00667434372 0.000969646382 0.00256709731 ... -0.00166841806 -0.000294668949 0.00061363104]] Test loss:  0.00047707255 lr:  0.01\n",
      "Epoch: 3 Elapsed time:  30.24810266494751 y0:  1.22331476 z0:  [[0.00297889323 -0.000526351447 0.000604598958 ... 0.000252651138 8.22625152e-05 -0.000591267541]] Test loss:  9.56056647e-06 lr:  0.01\n",
      "Epoch: 4 Elapsed time:  33.85690355300903 y0:  1.2203021 z0:  [[0.00299151568 -0.000182131655 -5.2196192e-05 ... 0.00032105908 2.53057096e-05 -0.000160081574]] Test loss:  1.00158541e-05 lr:  0.01\n",
      "Epoch: 5 Elapsed time:  37.4552788734436 y0:  1.22445989 z0:  [[0.00368735823 8.5366e-05 -0.000105258769 ... -3.55265511e-05 -7.44397476e-05 0.00012440898]] Test loss:  3.07005462e-06 lr:  0.01\n",
      "Epoch: 6 Elapsed time:  41.08037209510803 y0:  1.22287 z0:  [[0.00345217343 1.70836447e-05 -3.35692421e-05 ... -2.06064724e-05 -4.15329778e-05 0.000128870975]] Test loss:  1.32518994e-06 lr:  0.01\n",
      "Epoch: 7 Elapsed time:  44.67880129814148 y0:  1.2232132 z0:  [[0.00347157405 2.15487416e-05 4.65767835e-06 ... -4.00081808e-05 -2.17009492e-05 3.75633899e-05]] Test loss:  1.04251353e-06 lr:  0.01\n",
      "Epoch: 8 Elapsed time:  48.273645877838135 y0:  1.22319639 z0:  [[0.00347343972 3.67770213e-06 4.99099815e-06 ... -1.58060152e-06 -1.89043349e-05 2.99074218e-05]] Test loss:  8.75079877e-07 lr:  0.01\n",
      "Epoch: 9 Elapsed time:  51.868736028671265 y0:  1.22316551 z0:  [[0.0034760558 -4.39495579e-06 -4.23148504e-06 ... -4.24719747e-06 -1.21959847e-05 3.91832182e-05]] Test loss:  7.21244135e-07 lr:  0.01\n",
      "Epoch: 10 Elapsed time:  55.47572445869446 y0:  1.22318411 z0:  [[0.00348399207 -1.62824381e-05 5.79722564e-06 ... -2.77657523e-06 -9.30883471e-06 3.01190303e-05]] Test loss:  5.84215172e-07 lr:  0.01\n",
      "Epoch: 11 Elapsed time:  59.08948540687561 y0:  1.22317481 z0:  [[0.00350112235 -2.39775472e-05 1.98075031e-05 ... 3.39261533e-06 -7.25089603e-06 2.03702057e-05]] Test loss:  4.59799139e-07 lr:  0.01\n",
      "Epoch: 12 Elapsed time:  62.69682741165161 y0:  1.22317886 z0:  [[0.00351108 -2.61650657e-05 2.99224321e-05 ... 4.17352294e-06 -2.68368035e-06 1.99272345e-05]] Test loss:  3.54215643e-07 lr:  0.01\n",
      "Epoch: 13 Elapsed time:  66.29920148849487 y0:  1.22317779 z0:  [[0.00352003262 -2.88001047e-05 3.55680895e-05 ... 4.28495514e-06 -3.63372033e-06 1.57385293e-05]] Test loss:  2.73351276e-07 lr:  0.01\n",
      "Epoch: 14 Elapsed time:  69.8871259689331 y0:  1.22317767 z0:  [[0.00352670182 -2.8845343e-05 3.70085327e-05 ... 6.25847133e-06 -6.66296273e-06 1.13000087e-05]] Test loss:  2.14150674e-07 lr:  0.01\n",
      "Epoch: 15 Elapsed time:  73.53714799880981 y0:  1.22317624 z0:  [[0.00353104388 -2.78904172e-05 3.38233222e-05 ... 7.77660898e-06 -1.09670073e-05 8.70692293e-06]] Test loss:  1.72985835e-07 lr:  0.01\n",
      "Epoch: 16 Elapsed time:  77.13931703567505 y0:  1.22317588 z0:  [[0.00353403273 -2.69591474e-05 2.97827773e-05 ... 8.26916857e-06 -1.56912247e-05 7.55027759e-06]] Test loss:  1.46533282e-07 lr:  0.01\n",
      "Epoch: 17 Elapsed time:  80.74781823158264 y0:  1.22317648 z0:  [[0.00353559107 -2.60755805e-05 2.79700071e-05 ... 8.82300083e-06 -1.92826265e-05 7.47442618e-06]] Test loss:  1.30286935e-07 lr:  0.01\n",
      "Epoch: 18 Elapsed time:  84.33769011497498 y0:  1.2231766 z0:  [[0.00353605556 -2.45128158e-05 2.64555529e-05 ... 9.93082e-06 -2.17900015e-05 7.40197e-06]] Test loss:  1.20183628e-07 lr:  0.01\n",
      "Epoch: 19 Elapsed time:  87.95391893386841 y0:  1.22317696 z0:  [[0.00353559805 -2.23776424e-05 2.37148761e-05 ... 1.12552116e-05 -2.37988352e-05 6.70733834e-06]] Test loss:  1.13449822e-07 lr:  0.01\n",
      "Epoch: 20 Elapsed time:  91.5897159576416 y0:  1.22317684 z0:  [[0.00353391352 -2.01344883e-05 2.08524889e-05 ... 1.23626342e-05 -2.49142176e-05 5.8077967e-06]] Test loss:  1.07572326e-07 lr:  0.01\n"
     ]
    }
   ],
   "source": [
    "model = dBSDE(equation, y0=1.0)\n",
    "history = model.custom_fit(train_ds=train_ds, test_ds=test_ds, epochs=n_epochs)"
   ]
  }
 ],
 "metadata": {
  "kernelspec": {
   "display_name": "Python 3",
   "language": "python",
   "name": "python3"
  },
  "language_info": {
   "codemirror_mode": {
    "name": "ipython",
    "version": 3
   },
   "file_extension": ".py",
   "mimetype": "text/x-python",
   "name": "python",
   "nbconvert_exporter": "python",
   "pygments_lexer": "ipython3",
   "version": "3.8.10"
  }
 },
 "nbformat": 4,
 "nbformat_minor": 5
}
