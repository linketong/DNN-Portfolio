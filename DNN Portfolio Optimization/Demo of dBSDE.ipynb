{
 "cells": [
  {
   "cell_type": "code",
   "execution_count": 1,
   "id": "5c1718f5",
   "metadata": {},
   "outputs": [],
   "source": [
    "import tensorflow as tf\n",
    "import numpy as np\n",
    "import pandas as pd\n",
    "from math import isnan\n",
    "import sys\n",
    "import os\n",
    "from sklearn.model_selection import train_test_split\n",
    "from config import Config\n",
    "from equation import get_equation\n",
    "from solver import dBSDE\n",
    "import matplotlib.pyplot as plt\n",
    "%matplotlib inline"
   ]
  },
  {
   "cell_type": "markdown",
   "id": "c4c20646",
   "metadata": {},
   "source": [
    "# Dyanmic portfolio optimization\n",
    "\n",
    "The investor is facing a optimization problem that she wants to maiximize her expected utility over the investment horizon given the initial wealth and the access to a financial market consists of a riskless asset and some risky assets. The opitmization problem can be formulated as follows\n",
    "\\begin{align}\n",
    "V_{0} & =\\sup_{({\\pi},c)\\in\\mathcal{A}} \\mathbb{E}[\\int_{0}^{T}f(c_{s,}V_{s}^{(\\pi,c)})ds+U(T,\\mathcal{W}_{T}^{({\\pi},c)})]\\nonumber \\\\\n",
    "\\text{s.t. }d{S}_{t} &=\\text{diag}({S}_{t})\\big[\\big(r(t,{X}_{t})-p(t,X_t)\\big)\\mathbf{1}_{d}dt+{\\sigma}(t,{X}_{t})\\big({{\\theta}}(t,{X}_{t})dt+d{W}_{t}\\big)\\big]\\\\\n",
    "d\\mathcal{W}_{t}^{({\\pi},c)} & =\\mathcal{W}_{t}^{({\\pi},c)}[r_{t}(X_{t})dt+{\\pi}_{t}^{\\intercal}{{\\sigma}}_{t}({X}_{t})({{\\theta}}_{t}({X}_{t})dt+d{W}_{t})]-c_{t}dt\\label{eq:3}\\\\\n",
    "d{X}_{t} & =\\mathbf{{\\alpha}}(t,{X}_{t})dt+{{\\beta}}(t,{X}_{t})d{W}_{t}\n",
    "\\end{align}\n",
    "\n",
    "## Recursive utility\n",
    "\n",
    "Recursive utility is also known as the continuous-time Epstein-Zin utility. The aggregator function $f$ is given by\n",
    "\n",
    "$$\n",
    "f(c,v):=\\delta\\vartheta v[(\\frac{c}{((1-\\gamma)v)^{\\frac{1}{1-\\gamma}}})^{1-\\frac{1}{\\psi}}-1]\n",
    "$$\n",
    "where\n",
    "\n",
    "- $\\delta$: rate of time preference\n",
    "- $\\gamma$: relative risk aversion\n",
    "- $\\psi$:EIS (elasticity of intertemporal substitution)\n",
    "- $\\vartheta:=\\frac{1-\\gamma}{1-\\phi}$, $\\phi:=1/\\psi$\n",
    "\n",
    "We consider the bequest utility $U(T,c)=e^{-\\delta T}\\frac{c^{1-\\gamma}}{1-\\gamma}$\n",
    "\n",
    "The standard time-additive power utility is a special case of the recursive utility.\n",
    "\n",
    "Note that when $\\gamma=1/\\psi$, Epstein-Zin utility reduces to power utility, in which case \n",
    "$$\n",
    "V_0=\\mathbb{E}[\\int_{0}^{T}e^{-s\\beta}u(c_t)ds+e^{-\\delta T}u(\\mathcal{W}_T^{(\\pi,c)})]\n",
    "$$\n",
    "and\n",
    "$$\n",
    "f=\\delta\\big(\\frac{c^{1-\\gamma}}{1-\\gamma}\\big)-\\delta v\n",
    "$$"
   ]
  },
  {
   "cell_type": "markdown",
   "id": "9a72f1b8",
   "metadata": {},
   "source": [
    "## Optimal consumption-portfolio plan\n",
    "By the homothetic property of Epstein–Zin utility, we speculate the utility evaluated at the optimal strategy has the decomposition $V_{t}^{*}=\\frac{\\mathcal{W}_{t}^{1-\\gamma}}{1-\\gamma}e^{Y_{t}},\\;t\\in[0,T]$ where Y satisfies the BSDE $$Y_{t}=\\eta + \\int_{t}^{T}g(s,Y_{s},{Z}_{s})ds-\\int_{t}^{T}{Z}_{s}d{W}_{s}$$\n",
    "\n",
    "The optimal consumption-portfolio plan is determined by $Y$ and $Z$\n",
    "\\begin{align*}\n",
    "c_t^{*}/\\mathcal{W_t} & =\\delta^{\\psi}e^{-\\frac{\\psi}{\\vartheta}Y_t}\\\\\n",
    "{\\pi_t}^{*} & =\\frac{1}{\\gamma}{\\sigma_t}^{-1}{\\theta_t}+\\frac{1}{\\gamma}{\\sigma_t}^{-1}{Z_t}\n",
    "\\end{align*}\n",
    "\n",
    "Therefore, our goal is to solve the following FBSDEs\n",
    "\\begin{align*}\n",
    "Y_{t} &=\\eta+\\int_{t}^{T}f(s,{X}_{s,}Y_{s},{Z}_{s})ds-\\int_{t}^{T}{Z}_{s}^{\\intercal}d{W}_{s}\\\\\n",
    "{X}_{t} &={x}+\\int_{0}^{t}{\\alpha}(s,{X}_{s})ds+\\int_{0}^{t}{\\beta}(t,{X})d{W}_{s}\n",
    "\\end{align*}\n",
    "where\n",
    "$$\n",
    "f(t,{X},Y,{Z})\t=(1-\\gamma)r(t,{X})+\\frac{1-\\gamma}{2\\gamma}\\parallel{\\theta}(t,{X})\\parallel^{2}-\\delta\\vartheta+\\frac{\\vartheta}{\\psi}\\delta^{\\psi}e^{-\\frac{\\psi}{\\vartheta}Y}+\\frac{1-\\gamma}{\\gamma}{\\theta}^{\\intercal}{Z}+\\frac{1}{2\\gamma}\\parallel{Z}\\parallel^{2}\n",
    "$$\n"
   ]
  },
  {
   "cell_type": "markdown",
   "id": "db585ac2",
   "metadata": {},
   "source": [
    "## DNN algorithm\n",
    "\n",
    "Consider a partition of the time interval $[0,T]$, $\\mathcal{T}$:\n",
    "$0=t_{0}\\leq t_{1}\\leq\\ldots\\leq t_{N}=T$, with $\\Delta t=T/N$ and\n",
    "$t_{i}=i\\Delta t$, for all $i=0,1,\\ldots,N$, and $\\Delta{W}_{i}={W}_{t_{i+1}}-{W}_{t_{i}}$,\n",
    "for all $i=0,1,\\ldots,N-1$. \n",
    "\n",
    "Inspired by the nonlinear Feynman-Kac\n",
    "formula, we can view\n",
    "${Z}_{t}$ as a function of ${X}_{t}$ and $Y_{t}$. Then our\n",
    "goal becomes finding approximation functions\n",
    "$\\phi_{i}:\\mathbb{R}^{m}\\times\\mathbb{R}\\rightarrow\\mathbb{R}^{d}$\n",
    "for $i=0,1,\\ldots,N-1$ such that $\\phi_{i}(\\hat{{X}}_{t_{i}},\\hat{Y}_{t_{i}})$\n",
    "can serve as good approximation of  $Z_{t_{i}}$. \n",
    "\n",
    "The initial value of $Y$ can be set as another training variable $\\mu_0$ which will later be determined by gradient decsent.\n",
    "\n",
    "With the DNN functions $\\phi_{i}(0\\leq i\\leq N-1)$ and the training variable $\\mu_0$, we can perform the Monte Carlo simulation based on the Euler scheme\n",
    "$$\n",
    "\\begin{cases}\n",
    "\\hat{{X}}_{0}={x},\\quad\\hat{Y}_{0}=\\mu_{0},\\\\\n",
    "\\hat{{X}}_{t_{i+1}}=\\hat{{X}}_{t_{i}}+{\\alpha}(t_{i},{X}_{t_{i}})\\Delta t+{\\beta}(t_{i},\\hat{{X}}_{t_{i}})\\Delta{W}_{i}\\\\\n",
    "\\hat{{Z}}_{t_{i}}=\\phi_{i}(\\hat{{X}}_{t_{i}},\\hat{Y}_{t_{i}})\\\\\n",
    "\\hat{Y}_{t_{i+1}}=\\hat{Y}_{t_{i}}-f(t_{i},\\hat{{X}}_{t_{i}},\\hat{Y}_{t_{i}},\\hat{{Z}}_{t_{i}})\\Delta t+\\hat{{Z}}_{t_{i}}\\Delta{W}_{i}\n",
    "\\end{cases}\n",
    "$$\n",
    "To determine $\\mu_{0}$ and $\\phi_{i}(0\\leq i\\leq N-1)$, we solve the following stochastic optimization problem\n",
    "$$\n",
    "\\inf_{\\mu_{0},\\phi_{i}\\in\\mathcal{N}(\\Phi_{i})}J(\\mu_0,\\Phi_{0},\\ldots,\\Phi_{N-1}):=\\mathbb{E}\\vert \\eta-\\hat{Y}_{T}\\vert^{2}\n",
    "$$\n",
    "where $\\mathcal{N}(\\Phi)$ denotes the set of neural networks with paremeters summarized in the set $\\Phi$"
   ]
  },
  {
   "cell_type": "markdown",
   "id": "8882ea55",
   "metadata": {},
   "source": [
    "# Stochastic volatility model\n",
    "\n",
    "In this example, the finiancial market has only one risky assets governed by the Heston stochastic Heston model. This is a one dimesional problem with a closed form solution under some specific settings in terms of the value of Risk Aversion and EIS. We can compare the numerical result with the closed form solution to test the accuracy of the DNN method.\n",
    "\n",
    "$$dS_{t}^{1}=S_{t}[(r+\\bar{\\mu}X_{t})dt+\\sqrt{X_{t}}dW_{t}^{1}]$$\n",
    "$$dX_{t}=\\kappa(\\bar{X}-X_{t})dt+\\bar{\\beta}\\sqrt{X_{t}}(\\rho dW_{t}^{1}+\\sqrt{1-\\rho^{2}}dW_{t}^{2})$$\n",
    "$$\\kappa = 5,\\quad \\bar{X}=0.15^2, \\quad \\bar{\\mu}=3.11, \\quad \\bar{\\beta}=0.25,\\quad \\rho = -0.5$$"
   ]
  },
  {
   "cell_type": "code",
   "execution_count": 12,
   "id": "1a6558fa",
   "metadata": {},
   "outputs": [],
   "source": [
    "problem_name = \"Heston\"\n",
    "config = Config(horizon=2, steps=20, gamma=2, psi=0.125, x0=0.25)\n",
    "equation = get_equation(problem_name, config)"
   ]
  },
  {
   "cell_type": "markdown",
   "id": "96774a43",
   "metadata": {},
   "source": [
    "* `horizon`: The investment horizon $T$\n",
    "* `steps`: the number of time steps in one year. $n$, i.e. $\\Delta t = 1/n$\n",
    "* `gamma`: Risk Aversion\n",
    "* `psi`: EIS\n",
    "* `x0` : the inital value of the state variable, which is the variance here."
   ]
  },
  {
   "cell_type": "markdown",
   "id": "e62aed95",
   "metadata": {},
   "source": [
    "## Generate trainig data"
   ]
  },
  {
   "cell_type": "markdown",
   "id": "7779d726",
   "metadata": {},
   "source": [
    "* `equation`: define the FBSDE related Heston Model\n",
    "* `n_epoch`: how many times the training procesure repeats\n",
    "* `batch_size`: how many traing data in one epoch of training\n",
    "* `test_size`: number of test data for one epoch\n",
    "To better control the comparison with other numerical method, I generate all the Brownian motion first using a fixed seed, and treat the Brownian motions as the *input training data* as that in machine learning context."
   ]
  },
  {
   "cell_type": "code",
   "execution_count": 15,
   "id": "8c64c149",
   "metadata": {},
   "outputs": [],
   "source": [
    "batch_size = 512\n",
    "test_size = 1280\n",
    "n_epochs = 20\n",
    "total_sample_size = batch_size * n_epochs + test_size\n",
    "test_size_ratio = test_size / total_sample_size\n",
    "np.random.seed(1)\n",
    "input_data = np.random.normal(0, equation.sqrt_delta_t, (total_sample_size, equation.dim * equation.num_time_interval))\n",
    "outcome_data = np.ones([total_sample_size, 1])\n",
    "X_train, X_test, y_train, y_test = train_test_split( input_data, outcome_data, test_size=test_size_ratio, random_state=42)\n",
    "train_ds = tf.data.Dataset.from_tensor_slices(X_train).batch(batch_size)\n",
    "test_ds = tf.data.Dataset.from_tensor_slices(X_test).batch(test_size)"
   ]
  },
  {
   "cell_type": "markdown",
   "id": "72238536",
   "metadata": {},
   "source": [
    "## Train model"
   ]
  },
  {
   "cell_type": "code",
   "execution_count": 16,
   "id": "455fab6e",
   "metadata": {
    "scrolled": true
   },
   "outputs": [
    {
     "name": "stdout",
     "output_type": "stream",
     "text": [
      "Epoch: 1 Elapsed time:  9.62195897102356 y0:  1.13799465 z0:  -0.044063013 Test loss:  1.53779456e-05 lr:  0.01\n",
      "Epoch: 2 Elapsed time:  10.663120031356812 y0:  1.13811123 z0:  -0.0567051433 Test loss:  8.0119537e-07 lr:  0.01\n",
      "Epoch: 3 Elapsed time:  11.729042291641235 y0:  1.13747704 z0:  -0.0558217131 Test loss:  1.90348516e-07 lr:  0.01\n",
      "Epoch: 4 Elapsed time:  12.7965247631073 y0:  1.13754296 z0:  -0.0558375604 Test loss:  1.71498385e-07 lr:  0.01\n",
      "Epoch: 5 Elapsed time:  13.842067241668701 y0:  1.13757527 z0:  -0.0558467433 Test loss:  1.69411436e-07 lr:  0.01\n",
      "Epoch: 6 Elapsed time:  14.861364364624023 y0:  1.13757133 z0:  -0.0558466576 Test loss:  1.59819891e-07 lr:  0.01\n",
      "Epoch: 7 Elapsed time:  15.856267929077148 y0:  1.13757098 z0:  -0.0558475405 Test loss:  1.56457617e-07 lr:  0.01\n",
      "Epoch: 8 Elapsed time:  16.903908252716064 y0:  1.13757074 z0:  -0.0558498576 Test loss:  1.5271533e-07 lr:  0.01\n",
      "Epoch: 9 Elapsed time:  17.94389581680298 y0:  1.13756967 z0:  -0.0558525175 Test loss:  1.49907478e-07 lr:  0.01\n",
      "Epoch: 10 Elapsed time:  18.94707155227661 y0:  1.13756835 z0:  -0.0558549426 Test loss:  1.4876619e-07 lr:  0.01\n",
      "Epoch: 11 Elapsed time:  20.0170316696167 y0:  1.13756621 z0:  -0.0558589213 Test loss:  1.56007758e-07 lr:  0.005\n",
      "Epoch: 12 Elapsed time:  21.055728912353516 y0:  1.13756478 z0:  -0.055861935 Test loss:  1.63949295e-07 lr:  0.0025\n",
      "Epoch: 13 Elapsed time:  22.083661794662476 y0:  1.1375643 z0:  -0.0558618829 Test loss:  1.58429629e-07 lr:  0.0025\n",
      "Epoch: 14 Elapsed time:  23.14862298965454 y0:  1.1375643 z0:  -0.0558635406 Test loss:  1.50255886e-07 lr:  0.0025\n",
      "Epoch: 15 Elapsed time:  24.200517416000366 y0:  1.13756514 z0:  -0.0558635481 Test loss:  1.41283593e-07 lr:  0.0025\n",
      "Epoch: 16 Elapsed time:  25.267189264297485 y0:  1.1375643 z0:  -0.055863589 Test loss:  1.40228892e-07 lr:  0.0025\n",
      "Epoch: 17 Elapsed time:  26.30918002128601 y0:  1.13756192 z0:  -0.0558674745 Test loss:  1.39114306e-07 lr:  0.0025\n",
      "Epoch: 18 Elapsed time:  27.324973583221436 y0:  1.1375618 z0:  -0.0558716953 Test loss:  1.44709091e-07 lr:  0.0025\n",
      "Epoch: 19 Elapsed time:  28.348029136657715 y0:  1.13756633 z0:  -0.0558738522 Test loss:  1.75781821e-07 lr:  0.0025\n",
      "Epoch: 20 Elapsed time:  29.353254079818726 y0:  1.1375736 z0:  -0.0558715761 Test loss:  1.68900243e-07 lr:  0.0025\n",
      "Epoch: 21 Elapsed time:  30.467653274536133 y0:  1.1375773 z0:  -0.0558703244 Test loss:  1.5091743e-07 lr:  0.0025\n",
      "Epoch: 22 Elapsed time:  31.467997074127197 y0:  1.13758 z0:  -0.0558689311 Test loss:  1.37705527e-07 lr:  0.0025\n",
      "Epoch: 23 Elapsed time:  32.5346519947052 y0:  1.13758183 z0:  -0.055866491 Test loss:  1.39222465e-07 lr:  0.0025\n",
      "Epoch: 24 Elapsed time:  33.5984206199646 y0:  1.13758028 z0:  -0.0558657385 Test loss:  1.39701228e-07 lr:  0.0025\n",
      "Epoch: 25 Elapsed time:  34.6613335609436 y0:  1.13758016 z0:  -0.0558670275 Test loss:  1.36690716e-07 lr:  0.0025\n",
      "Epoch: 26 Elapsed time:  35.718077182769775 y0:  1.13758 z0:  -0.0558681749 Test loss:  1.34146092e-07 lr:  0.0025\n",
      "Epoch: 27 Elapsed time:  36.75906562805176 y0:  1.13757825 z0:  -0.0558682047 Test loss:  1.41556256e-07 lr:  0.00125\n",
      "Epoch: 28 Elapsed time:  37.78580665588379 y0:  1.13757741 z0:  -0.0558648705 Test loss:  1.71212207e-07 lr:  0.00125\n",
      "Epoch: 29 Elapsed time:  38.814061403274536 y0:  1.13757861 z0:  -0.0558633432 Test loss:  1.60339965e-07 lr:  0.00125\n",
      "Epoch: 30 Elapsed time:  39.82441258430481 y0:  1.13757956 z0:  -0.0558603927 Test loss:  1.7763864e-07 lr:  0.00125\n",
      "Epoch: 31 Elapsed time:  40.87332105636597 y0:  1.13758051 z0:  -0.0558559224 Test loss:  1.85872409e-07 lr:  0.00125\n",
      "Epoch: 32 Elapsed time:  41.88028287887573 y0:  1.1375798 z0:  -0.0558560714 Test loss:  2.29684773e-07 lr:  0.00125\n",
      "Epoch: 33 Elapsed time:  42.950623989105225 y0:  1.13757885 z0:  -0.0558643863 Test loss:  2.81289545e-07 lr:  0.00125\n",
      "Epoch: 34 Elapsed time:  44.00558042526245 y0:  1.1375792 z0:  -0.0558659583 Test loss:  2.02376711e-07 lr:  0.00125\n",
      "Epoch: 35 Elapsed time:  45.0442271232605 y0:  1.13757956 z0:  -0.0558574423 Test loss:  1.86491064e-07 lr:  0.00125\n",
      "Epoch: 36 Elapsed time:  46.07823729515076 y0:  1.13757837 z0:  -0.0558534078 Test loss:  1.95536927e-07 lr:  0.00125\n",
      "Epoch: 37 Elapsed time:  47.096944093704224 y0:  1.1375767 z0:  -0.0558570921 Test loss:  2.45507e-07 lr:  0.00125\n",
      "Epoch: 38 Elapsed time:  48.11287784576416 y0:  1.1375761 z0:  -0.0558625869 Test loss:  2.49325865e-07 lr:  0.00125\n",
      "Epoch: 39 Elapsed time:  49.17683005332947 y0:  1.13757694 z0:  -0.0558582842 Test loss:  1.9890831e-07 lr:  0.00125\n",
      "Epoch: 40 Elapsed time:  50.21033716201782 y0:  1.13757682 z0:  -0.0558521487 Test loss:  1.9128845e-07 lr:  0.00125\n"
     ]
    }
   ],
   "source": [
    "model = dBSDE(equation, y0=1.0)\n",
    "history = model.custom_fit(train_ds=train_ds, test_ds=test_ds, epochs=n_epochs)"
   ]
  },
  {
   "cell_type": "markdown",
   "id": "b9a17270",
   "metadata": {},
   "source": [
    "## Exact solution"
   ]
  },
  {
   "cell_type": "code",
   "execution_count": 8,
   "id": "542b2353",
   "metadata": {
    "scrolled": true
   },
   "outputs": [
    {
     "name": "stdout",
     "output_type": "stream",
     "text": [
      "Y0_true: 1.1420, Z0_true: -0.0554\n"
     ]
    }
   ],
   "source": [
    "def exact_solution(equation):\n",
    "    if equation.psi == 2-equation.gamma+(equation.rho*(1-equation.gamma))**2/equation.gamma:\n",
    "        Y_exact = equation.h_exact(config.x_init, 0, config.total_time)\n",
    "        Z_exact = equation.beta_bar * np.sqrt(config.x_init) * equation.hx_exact(config.x_init, 0, config.total_time)\n",
    "        print(f\"Y0_true: {Y_exact:.4f}, Z0_true: {Z_exact:.4f}\")\n",
    "    else:\n",
    "        print('No exact solution')\n",
    "exact_solution(equation)"
   ]
  },
  {
   "cell_type": "markdown",
   "id": "074bd298",
   "metadata": {},
   "source": [
    "The exact solution is $Y_0=1.142,Z_0=-0.0554$, the numerical result given by DNN is $\\hat{Y}_0=1.138, \\hat{Z_0}=-0.0558$."
   ]
  },
  {
   "cell_type": "markdown",
   "id": "c52d1938",
   "metadata": {},
   "source": [
    "# Large scale model"
   ]
  },
  {
   "cell_type": "markdown",
   "id": "777a5d56",
   "metadata": {},
   "source": [
    "In the financial market, There are $d$ Brownian motions and $d+1$ securities, $d-1$ of which are stock portfolios, one mutual fund of long term bounds and one riskless asset. There are $2d$ state variables: \n",
    " $d$ marketprices of risk, one interest rate and  $d-1$ dividends affecting the evolution of the market prices of risks.\n",
    "\n",
    "The dynamics of the interest rate $r$ and the price of the bond portfolio ($S_{b}$) are \n",
    "\\begin{align}\n",
    "dr_{t} & =\\kappa_{r}(\\bar{r}-r_{t})(1+\\phi_{r}(\\bar{r}-r_{t})^{2\\eta_{r}})dt-\\sigma_{r}r_{t}^{\\gamma_{r}}dW_{1t}\\nonumber \\\\\n",
    "dS_{bt} & =S_{bt}\\Big[(r_{t}+\\sigma_{b}\\theta_{1t})dt+\\sigma_{b}dW_{1t}\\Big]\\label{eq:sb}\n",
    "\\end{align}\n",
    "The first stock portfolio is the market portfolio of securities, which\n",
    "depends on $(W_{1},W_{2})$\n",
    "\\begin{align}\n",
    "dS_{1t}+S_{1t}p_{2t}dt & =S_{1t}\\Big(r_{t}+\\sigma_{1}(\\rho_{11}\\theta_{1t}+\\sqrt{1-\\rho_{11}^{2}}\\theta_{2,t})\\Big)dt\\label{eq:s1}\\\\\n",
    " & \\quad+S_{1t}\\sigma_{1}\\Big(\\rho_{11}dW_{1t}+\\sqrt{1-\\rho_{11}^{2}}dW_{2t}\\Big)\\nonumber \n",
    "\\end{align}\n",
    "The next $d-2$ funds are independent with each other as well as the\n",
    "market portfolio and the bond fund, i.e. the fund $j$ is perfectly\n",
    "correlated with $W_{j+1}$, $\\rho_{jk}=0$, for $j=2,\\ldots,d-1$.\n",
    "They are pure hedge funds. The dynamics of these $d-2$ funds are\n",
    "as shown as follws\n",
    "\\begin{equation}\n",
    "dS_{it}+S_{it}p_{i+1,t}dt=S_{it}\\Big(r_{t}+\\sigma_{i}\\theta_{i+1,t}\\Big)dt+S_{it}\\sigma_{i}dW_{i+1,t},\\ i=2,\\cdots,d-1\\label{eq:si}\n",
    "\\end{equation}\n",
    "\n"
   ]
  },
  {
   "cell_type": "markdown",
   "id": "7fbdc30e",
   "metadata": {},
   "source": [
    "The state variables are \n",
    "$$ \\big(r,p_{2},\\ldots,p_{d},\\theta_{1},\\theta_{2}\\ldots,\\theta_{d}\\big)_{2d} $$\n",
    "These $2d$ state variables all have their own dynamics. For \n",
    "The market price of the bond portfolio satisfies the following process\n",
    "without dividend effect.\n",
    "\\begin{align*}\n",
    "d\\theta_{1t} & =\\big(\\kappa_{\\theta_{1}}(\\bar{\\theta}_{1}-\\theta_{1t})+\\mu_{\\theta_{1}}^{r}(r_{t},\\theta_{1t})\\big)dt+\\sigma_{\\theta_{1}}(\\theta_{1t})dW_{1t}\\\\\n",
    "\\sigma_{\\theta_{1}}(\\theta_{1t}) & =\\tilde{\\sigma}_{\\theta_{1}}(\\theta_{1l}+\\theta_{1t})^{\\gamma_{1\\theta_{1}}}(1-(\\frac{\\theta_{1l}+\\theta_{1t}}{\\theta_{1l}+\\theta_{1u}})^{1-\\gamma_{1\\theta_{1}}})^{\\gamma_{2\\theta_{1}}}\\\\\n",
    "\\mu_{\\theta_{1}}^{r}(r_{t},\\theta_{1t}) & =\\delta_{r1}(\\bar{r}-r_{t})(\\theta_{1l}+\\theta_{1t})(1-\\frac{\\theta_{1l}+\\theta_{1t}}{\\theta_{1l}+\\theta_{1u}})\n",
    "\\end{align*}\n",
    "\n",
    "For $i=2,\\ldots,d$, the pair $(\\theta_{i},p_{i})$ satisfies identical\n",
    "process as follows:\n",
    "\\begin{align*}\n",
    "d\\theta_{it} & =\\big(\\kappa(\\bar{\\theta}-\\theta_{it})+\\mu_{\\theta}^{r}(r_{t},\\theta_{it})+\\mu_{\\theta}^{p}(p_{t},\\theta_{it})\\big)dt+\\sigma_{\\theta}(\\theta_{it})dW_{it}\\\\\n",
    "dp_{it} & =\\kappa_{p}(\\bar{p}-p_{it})(1+\\phi_{p}(\\bar{p}-p_{it})^{2\\eta_{p}})dt-\\sigma_{p}p_{it}^{\\gamma_{p}}dW_{it}\n",
    "\\end{align*}\n",
    "\\begin{align*}\n",
    "\\mu_{\\theta}^{r}(r_{t},\\theta_{it}) & =\\delta_{r\\theta}(\\bar{r}-r_{t})(\\theta_{l}+\\theta_{it})(1-\\frac{\\theta_{l}+\\theta_{it}}{\\theta_{l}+\\theta_{u}})\\\\\n",
    "\\mu_{\\theta}^{p}(p_{t},\\theta_{it}) & =\\delta_{p\\theta}(\\bar{p}-p_{t})(\\theta_{l}+\\theta_{it})(1-\\frac{\\theta_{l}+\\theta_{it}}{\\theta_{l}+\\theta_{u}})\\\\\n",
    "\\sigma_{\\theta}(\\theta_{it}) & =\\tilde{\\sigma}_{\\theta}(\\theta_{l}+\\theta_{it})^{\\gamma_{1\\theta}}(1-(\\frac{\\theta_{l}+\\theta_{it}}{\\theta_{l}+\\theta_{u}})^{1-\\gamma_{1\\theta}})^{\\gamma_{2\\theta}}\n",
    "\\end{align*}"
   ]
  },
  {
   "cell_type": "code",
   "execution_count": 7,
   "id": "ace6a62f",
   "metadata": {},
   "outputs": [],
   "source": [
    "problem_name = \"LargeScale\"\n",
    "config = Config(d=100, horizon=2, steps=20, gamma=4, psi=1.2, x0=0.5)\n",
    "equation = get_equation(problem_name, config)"
   ]
  },
  {
   "cell_type": "markdown",
   "id": "f6eea511",
   "metadata": {},
   "source": [
    "Let's take dimesion $d=100$ as an example. We choose the investment horizon to be 2 years, the Risk Aversion to be 4 and the EIS to be 1.2."
   ]
  },
  {
   "cell_type": "code",
   "execution_count": 8,
   "id": "2e1f6acd",
   "metadata": {},
   "outputs": [],
   "source": [
    "batch_size = 512\n",
    "test_size = 1280\n",
    "n_epochs = 20\n",
    "total_sample_size = batch_size * n_epochs + test_size\n",
    "test_size_ratio = test_size / total_sample_size\n",
    "np.random.seed(1)\n",
    "input_data = np.random.normal(0, equation.sqrt_delta_t, (total_sample_size, equation.dim * equation.num_time_interval))\n",
    "outcome_data = np.ones([total_sample_size, 1])\n",
    "X_train, X_test, y_train, y_test = train_test_split( input_data, outcome_data, test_size=test_size_ratio, random_state=42)\n",
    "train_ds = tf.data.Dataset.from_tensor_slices(X_train).batch(batch_size)\n",
    "test_ds = tf.data.Dataset.from_tensor_slices(X_test).batch(test_size)"
   ]
  },
  {
   "cell_type": "code",
   "execution_count": 10,
   "id": "ce7896db",
   "metadata": {
    "scrolled": false
   },
   "outputs": [
    {
     "name": "stdout",
     "output_type": "stream",
     "text": [
      "Epoch: 1 Elapsed time:  22.271790981292725 y0:  1.18154013 z0:  [[0.00817235094 0.00271763257 0.00232143747 ... -0.00293644541 -0.000647201436 0.00366242952]] Test loss:  0.00146703131 lr:  0.01\n",
      "Epoch: 2 Elapsed time:  24.093981742858887 y0:  1.24692941 z0:  [[0.00693259388 0.00187967403 0.00185341784 ... -0.00158897007 -0.000106113454 0.000200101349]] Test loss:  0.000463666773 lr:  0.01\n",
      "Epoch: 3 Elapsed time:  25.887338876724243 y0:  1.22333562 z0:  [[0.00252932031 -0.000221709139 0.000430308428 ... 0.000452481589 -0.00016212817 -0.000725388818]] Test loss:  9.75105377e-06 lr:  0.01\n",
      "Epoch: 4 Elapsed time:  27.722331762313843 y0:  1.2203685 z0:  [[0.00297619286 -0.000351314899 -0.000140000571 ... 0.000415715942 0.000138564443 -0.000162678654]] Test loss:  9.5939622e-06 lr:  0.01\n",
      "Epoch: 5 Elapsed time:  29.63929295539856 y0:  1.22442472 z0:  [[0.00362345157 3.71431e-05 -2.24901087e-05 ... -0.000191564788 -1.84438177e-05 0.000191242318]] Test loss:  3.17760168e-06 lr:  0.01\n",
      "Epoch: 6 Elapsed time:  31.529457092285156 y0:  1.22290492 z0:  [[0.00350973918 6.66919514e-05 5.4292479e-05 ... -4.44531252e-05 -6.88857253e-05 6.55451731e-05]] Test loss:  1.66674238e-06 lr:  0.01\n",
      "Epoch: 7 Elapsed time:  33.29586124420166 y0:  1.22323596 z0:  [[0.00346231321 4.89007507e-05 6.26911933e-05 ... -4.72694228e-05 -8.77156053e-05 9.77910531e-06]] Test loss:  1.46911077e-06 lr:  0.01\n",
      "Epoch: 8 Elapsed time:  35.2112832069397 y0:  1.22321343 z0:  [[0.00345596485 2.35823063e-05 7.651755e-05 ... -4.97142719e-05 -4.78863585e-05 4.28334788e-05]] Test loss:  1.26425721e-06 lr:  0.01\n",
      "Epoch: 9 Elapsed time:  36.968812704086304 y0:  1.22318745 z0:  [[0.00347072328 3.0633546e-05 5.91092e-05 ... -3.69966692e-05 -7.67926e-05 3.30366383e-05]] Test loss:  1.03716525e-06 lr:  0.01\n",
      "Epoch: 10 Elapsed time:  38.70910096168518 y0:  1.22319829 z0:  [[0.00345643028 2.20703e-05 3.29774957e-05 ... -1.9874753e-05 -8.73993e-05 2.56357307e-05]] Test loss:  8.02679e-07 lr:  0.01\n",
      "Epoch: 11 Elapsed time:  40.55500030517578 y0:  1.22318554 z0:  [[0.00345827872 8.81559117e-06 1.97198715e-05 ... 7.85507837e-06 -6.48570858e-05 1.65376841e-05]] Test loss:  5.92391871e-07 lr:  0.01\n",
      "Epoch: 12 Elapsed time:  42.36583733558655 y0:  1.22318375 z0:  [[0.00346546341 -8.44399e-06 1.91209147e-05 ... 1.98447087e-05 -6.07407746e-05 1.35160799e-05]] Test loss:  4.31456499e-07 lr:  0.01\n",
      "Epoch: 13 Elapsed time:  44.196661949157715 y0:  1.22318363 z0:  [[0.00347298477 -2.39286533e-06 2.35591851e-05 ... 2.18937894e-05 -6.05237874e-05 9.76629144e-06]] Test loss:  2.86024203e-07 lr:  0.01\n",
      "Epoch: 14 Elapsed time:  46.11686968803406 y0:  1.22318017 z0:  [[0.00346372253 -4.23047504e-06 2.01953517e-05 ... 2.17498327e-05 -4.54249166e-05 1.18332528e-05]] Test loss:  2.19853547e-07 lr:  0.01\n",
      "Epoch: 15 Elapsed time:  47.95286512374878 y0:  1.22318077 z0:  [[0.00347109698 -9.14112752e-06 2.27721721e-05 ... 2.33850624e-05 -3.49786496e-05 1.24010676e-05]] Test loss:  1.79520313e-07 lr:  0.01\n",
      "Epoch: 16 Elapsed time:  49.772170066833496 y0:  1.22317815 z0:  [[0.00347335963 -1.46235525e-05 2.35116804e-05 ... 2.43847353e-05 -2.76531537e-05 1.60567e-05]] Test loss:  1.38745264e-07 lr:  0.01\n",
      "Epoch: 17 Elapsed time:  51.60042858123779 y0:  1.22317779 z0:  [[0.0034759026 -1.56056776e-05 2.57818538e-05 ... 2.02839401e-05 -3.05716e-05 2.09759964e-05]] Test loss:  1.03343424e-07 lr:  0.01\n",
      "Epoch: 18 Elapsed time:  53.50797247886658 y0:  1.22317922 z0:  [[0.00348437903 -4.07632024e-06 2.93893117e-05 ... 8.31717e-06 -3.27031739e-05 1.72745822e-05]] Test loss:  9.02865267e-08 lr:  0.01\n",
      "Epoch: 19 Elapsed time:  55.3432674407959 y0:  1.22317839 z0:  [[0.00348853203 -7.93547588e-06 2.54343558e-05 ... 7.81108702e-06 -2.60471315e-05 1.14044633e-05]] Test loss:  8.12576673e-08 lr:  0.01\n",
      "Epoch: 20 Elapsed time:  57.21552109718323 y0:  1.2231797 z0:  [[0.00349118141 -6.6047678e-06 2.70158489e-05 ... -7.71110365e-07 -2.20064376e-05 1.55853231e-05]] Test loss:  7.82034e-08 lr:  0.01\n"
     ]
    }
   ],
   "source": [
    "model = dBSDE(equation, y0=1.0)\n",
    "history = model.custom_fit(train_ds=train_ds, test_ds=test_ds, epochs=n_epochs)"
   ]
  }
 ],
 "metadata": {
  "kernelspec": {
   "display_name": "Python 3",
   "language": "python",
   "name": "python3"
  },
  "language_info": {
   "codemirror_mode": {
    "name": "ipython",
    "version": 3
   },
   "file_extension": ".py",
   "mimetype": "text/x-python",
   "name": "python",
   "nbconvert_exporter": "python",
   "pygments_lexer": "ipython3",
   "version": "3.8.10"
  }
 },
 "nbformat": 4,
 "nbformat_minor": 5
}
