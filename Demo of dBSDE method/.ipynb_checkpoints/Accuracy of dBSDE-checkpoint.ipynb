{
 "cells": [
  {
   "cell_type": "code",
   "execution_count": 2,
   "id": "5c1718f5",
   "metadata": {},
   "outputs": [],
   "source": [
    "import tensorflow as tf\n",
    "import numpy as np\n",
    "import pandas as pd\n",
    "from math import isnan\n",
    "import sys\n",
    "import os\n",
    "from sklearn.model_selection import train_test_split\n",
    "from config import get_config\n",
    "from equation import get_equation\n",
    "from solver import Merged\n",
    "import matplotlib.pyplot as plt\n",
    "%matplotlib inline"
   ]
  },
  {
   "cell_type": "markdown",
   "id": "8882ea55",
   "metadata": {},
   "source": [
    "# Initializate setting\n",
    "* `problem_name`: the problem we are solving is Heston stochastic volatility model\n",
    "$$dS_{t}^{1}=S_{t}[(r+\\bar{\\mu}X_{t})dt+\\sqrt{X_{t}}dW_{t}^{1}]$$\n",
    "$$dX_{t}=\\kappa(\\bar{X}-X_{t})dt+\\bar{\\beta}\\sqrt{X_{t}}(\\rho dW_{t}^{1}+\\sqrt{1-\\rho^{2}}dW_{t}^{2})$$\n",
    "$$\\kappa = 5,\\quad \\bar{X}=0.15^2, \\quad \\bar{\\mu}=3.11, \\quad \\bar{\\beta}=0.25,\\quad \\rho = -0.5$$\n",
    "* `config.total_time`: The investment horizon $T$\n",
    "* `config.num_time_interval`: Total number of grids in time $N$, i.e. $\\Delta t = T/N$\n",
    "* `config.gamma`: risk aversion\n",
    "* `config.psi`: EIS\n",
    "* `config.x_init` : $X_0$"
   ]
  },
  {
   "cell_type": "code",
   "execution_count": 19,
   "id": "1a6558fa",
   "metadata": {},
   "outputs": [],
   "source": [
    "problem_name = \"Heston\"\n",
    "config = get_config(problem_name)\n",
    "config.total_time = 2\n",
    "config.num_time_interval = 100\n",
    "config.gamma = 2\n",
    "config.psi = 0.125\n",
    "config.x_init = 0.25\n",
    "equation = get_equation(problem_name+'_poly', config)"
   ]
  },
  {
   "cell_type": "markdown",
   "id": "1d634eb5",
   "metadata": {},
   "source": [
    "# Shorter investment Horizon T=2 years"
   ]
  },
  {
   "cell_type": "markdown",
   "id": "1330c628",
   "metadata": {},
   "source": [
    "The accuracy of the model is senstive to the investment horizon. The longer the horizon is, the higer the error is. So we test two cases, one is of shorter horizon( $T=2$), the other is of longer horizon($T=10$).\n",
    "The accuracy can be represented by the values of `loss` in the output of the training process.\n",
    "* for T=2, `loss` is of order O(1e-8)\n",
    "* for T=10, `loss` is of order O(1e-6)\n",
    "\n",
    "*Note*\n",
    "\n",
    "1.  `loss` is the mean squared error between estimated $Y_T$ and it true values.\n",
    "2.  we adopt the same structure of neural networks and same length of time interval($\\Delta t=1/50$) for both settings. The neural network $\\mathcal{N}(\\Phi_t^z)$ at each time point should have the same approximation ability in both cases. However, more time steps may cause more accumlated error from the Euler simulation."
   ]
  },
  {
   "cell_type": "markdown",
   "id": "e62aed95",
   "metadata": {},
   "source": [
    "## Generate trainig data"
   ]
  },
  {
   "cell_type": "markdown",
   "id": "7779d726",
   "metadata": {},
   "source": [
    "* `equation`: define the FBSDE related Heston Model\n",
    "* `n_epoch`: how many times the training procesure repeats\n",
    "* `batch_size`: how many traing data in one epoch of training\n",
    "* `test_size`: number of test data for one epoch\n",
    "To better control the comparison with other numerical method, I generate all the Brownian motion first using a fixed seed, and treat the Brownian motions as the *input training data* as that in machine learning context."
   ]
  },
  {
   "cell_type": "code",
   "execution_count": 20,
   "id": "8c64c149",
   "metadata": {},
   "outputs": [],
   "source": [
    "batch_size = 512\n",
    "test_size = 1280\n",
    "n_epochs = 40\n",
    "total_sample_size = batch_size * n_epochs + test_size\n",
    "test_size_ratio = test_size / total_sample_size\n",
    "np.random.seed(1)\n",
    "sample_dw = np.random.normal(0, equation.sqrt_delta_t, (total_sample_size, equation.dim * equation.num_time_interval))\n",
    "input_data = sample_dw\n",
    "outcome_data = np.ones([total_sample_size, 1])\n",
    "X_train, X_test, y_train, y_test = train_test_split( input_data, outcome_data, test_size=test_size_ratio, random_state=42)\n",
    "train_ds = tf.data.Dataset.from_tensor_slices(X_train).batch(batch_size)\n",
    "test_ds = tf.data.Dataset.from_tensor_slices(X_test).batch(test_size)"
   ]
  },
  {
   "cell_type": "markdown",
   "id": "b9a17270",
   "metadata": {},
   "source": [
    "## Exact solution"
   ]
  },
  {
   "cell_type": "code",
   "execution_count": 6,
   "id": "542b2353",
   "metadata": {
    "scrolled": true
   },
   "outputs": [
    {
     "name": "stdout",
     "output_type": "stream",
     "text": [
      "Y0_true: 1.1420, Z0_true: -0.0554\n"
     ]
    }
   ],
   "source": [
    "def exact_solution(equation):\n",
    "    if equation.psi == 2-equation.gamma+(equation.rho*(1-equation.gamma))**2/equation.gamma:\n",
    "        Y_exact = equation.h_exact(config.x_init, 0, config.total_time)\n",
    "        Z_exact = equation.beta_bar * np.sqrt(config.x_init) * equation.hx_exact(config.x_init, 0, config.total_time)\n",
    "        print(f\"Y0_true: {Y_exact:.4f}, Z0_true: {Z_exact:.4f}\")\n",
    "    else:\n",
    "        print('No exact solution')\n",
    "exact_solution(equation)"
   ]
  },
  {
   "cell_type": "markdown",
   "id": "6cd3e1be",
   "metadata": {},
   "source": [
    "## Train model"
   ]
  },
  {
   "cell_type": "code",
   "execution_count": 5,
   "id": "455fab6e",
   "metadata": {
    "scrolled": true
   },
   "outputs": [
    {
     "name": "stdout",
     "output_type": "stream",
     "text": [
      "Epoch: 1 Elapsed time:  21.656049728393555 y0:  1.14230859 z0:  -0.0415250249 Test loss:  3.16027654e-05 lr:  0.01\n",
      "Epoch: 2 Elapsed time:  23.675304412841797 y0:  1.14117813 z0:  -0.0559701547 Test loss:  2.10451299e-06 lr:  0.01\n",
      "Epoch: 3 Elapsed time:  25.716403484344482 y0:  1.14020324 z0:  -0.0557708107 Test loss:  2.03289119e-07 lr:  0.01\n",
      "Epoch: 4 Elapsed time:  27.786948442459106 y0:  1.14018297 z0:  -0.0555274263 Test loss:  1.65528917e-07 lr:  0.01\n",
      "Epoch: 5 Elapsed time:  29.81283974647522 y0:  1.14021301 z0:  -0.0555580333 Test loss:  1.46549098e-07 lr:  0.01\n",
      "Epoch: 6 Elapsed time:  31.846433639526367 y0:  1.14021301 z0:  -0.055558823 Test loss:  1.34940905e-07 lr:  0.01\n",
      "Epoch: 7 Elapsed time:  33.891419887542725 y0:  1.1402123 z0:  -0.055560708 Test loss:  1.09760684e-07 lr:  0.01\n",
      "Epoch: 8 Elapsed time:  35.91439867019653 y0:  1.1402117 z0:  -0.0555588752 Test loss:  9.42104776e-08 lr:  0.01\n",
      "Epoch: 9 Elapsed time:  37.96282768249512 y0:  1.14021111 z0:  -0.0555577204 Test loss:  8.20572055e-08 lr:  0.01\n",
      "Epoch: 10 Elapsed time:  40.10572624206543 y0:  1.14021027 z0:  -0.0555562563 Test loss:  7.25042142e-08 lr:  0.01\n",
      "Epoch: 11 Elapsed time:  42.186057806015015 y0:  1.14020967 z0:  -0.0555549935 Test loss:  6.41957456e-08 lr:  0.01\n",
      "Epoch: 12 Elapsed time:  44.26877737045288 y0:  1.14020908 z0:  -0.0555538088 Test loss:  5.70240033e-08 lr:  0.01\n",
      "Epoch: 13 Elapsed time:  46.29811334609985 y0:  1.14020848 z0:  -0.055553183 Test loss:  5.18589616e-08 lr:  0.01\n",
      "Epoch: 14 Elapsed time:  48.40550112724304 y0:  1.14020777 z0:  -0.0555523746 Test loss:  4.9115e-08 lr:  0.01\n",
      "Epoch: 15 Elapsed time:  50.46652936935425 y0:  1.14020669 z0:  -0.0555508137 Test loss:  4.62827145e-08 lr:  0.01\n",
      "Epoch: 16 Elapsed time:  52.581692695617676 y0:  1.14020622 z0:  -0.0555484146 Test loss:  4.47914879e-08 lr:  0.01\n",
      "Epoch: 17 Elapsed time:  54.5990788936615 y0:  1.14020717 z0:  -0.0555453785 Test loss:  4.65809471e-08 lr:  0.01\n",
      "Epoch: 18 Elapsed time:  56.67799997329712 y0:  1.14020872 z0:  -0.0555443913 Test loss:  4.27900204e-08 lr:  0.01\n",
      "Epoch: 19 Elapsed time:  58.70220422744751 y0:  1.14020944 z0:  -0.0555452146 Test loss:  4.16227621e-08 lr:  0.01\n",
      "Epoch: 20 Elapsed time:  60.755741357803345 y0:  1.14020956 z0:  -0.0555467382 Test loss:  4.23938786e-08 lr:  0.01\n",
      "Epoch: 21 Elapsed time:  62.859318256378174 y0:  1.14020967 z0:  -0.0555474162 Test loss:  4.66706744e-08 lr:  0.01\n",
      "Epoch: 22 Elapsed time:  64.91504859924316 y0:  1.14021015 z0:  -0.0555426553 Test loss:  4.52925e-08 lr:  0.01\n",
      "Epoch: 23 Elapsed time:  66.93425917625427 y0:  1.14021099 z0:  -0.0555390902 Test loss:  4.63498857e-08 lr:  0.01\n",
      "Epoch: 24 Elapsed time:  69.03376936912537 y0:  1.14021134 z0:  -0.0555407181 Test loss:  5.83153117e-08 lr:  0.01\n",
      "Epoch: 25 Elapsed time:  71.11477255821228 y0:  1.14021254 z0:  -0.055549074 Test loss:  7.63541053e-08 lr:  0.01\n",
      "Epoch: 26 Elapsed time:  73.14934134483337 y0:  1.14021385 z0:  -0.0555519536 Test loss:  5.78422146e-08 lr:  0.01\n",
      "Epoch: 27 Elapsed time:  75.21304988861084 y0:  1.14021349 z0:  -0.0555444956 Test loss:  4.79563838e-08 lr:  0.01\n",
      "Epoch: 28 Elapsed time:  77.30008292198181 y0:  1.14021373 z0:  -0.055542428 Test loss:  4.36481216e-08 lr:  0.01\n",
      "Epoch: 29 Elapsed time:  79.37178540229797 y0:  1.14021409 z0:  -0.0555415563 Test loss:  3.76290856e-08 lr:  0.01\n",
      "Epoch: 30 Elapsed time:  81.53813648223877 y0:  1.14021492 z0:  -0.0555397533 Test loss:  3.49872309e-08 lr:  0.01\n",
      "Epoch: 31 Elapsed time:  83.65486192703247 y0:  1.14021564 z0:  -0.0555376969 Test loss:  3.48078864e-08 lr:  0.01\n",
      "Epoch: 32 Elapsed time:  85.77888941764832 y0:  1.14021623 z0:  -0.0555351228 Test loss:  3.51760505e-08 lr:  0.01\n",
      "Epoch: 33 Elapsed time:  87.92875981330872 y0:  1.14021635 z0:  -0.0555315129 Test loss:  3.37841399e-08 lr:  0.01\n",
      "Epoch: 34 Elapsed time:  90.11474704742432 y0:  1.14021635 z0:  -0.0555303209 Test loss:  3.43561446e-08 lr:  0.01\n",
      "Epoch: 35 Elapsed time:  92.24981927871704 y0:  1.14021635 z0:  -0.0555273369 Test loss:  4.34897736e-08 lr:  0.005\n",
      "Epoch: 36 Elapsed time:  94.2998263835907 y0:  1.14021301 z0:  -0.0555286184 Test loss:  3.94691035e-08 lr:  0.005\n",
      "Epoch: 37 Elapsed time:  96.37841701507568 y0:  1.14021504 z0:  -0.0555271953 Test loss:  3.48468738e-08 lr:  0.005\n",
      "Epoch: 38 Elapsed time:  98.43476223945618 y0:  1.1402185 z0:  -0.0555143803 Test loss:  1.093821e-07 lr:  0.005\n",
      "Epoch: 39 Elapsed time:  100.4426519870758 y0:  1.14021719 z0:  -0.0555071 Test loss:  1.18186087e-07 lr:  0.005\n",
      "Epoch: 40 Elapsed time:  102.51084494590759 y0:  1.14021623 z0:  -0.0555216148 Test loss:  4.3043606e-08 lr:  0.005\n"
     ]
    }
   ],
   "source": [
    "model = Merged(equation, y0=1.0)\n",
    "history = model.custom_fit(train_ds=train_ds, test_ds=test_ds, epochs=n_epochs)"
   ]
  },
  {
   "cell_type": "code",
   "execution_count": 6,
   "id": "dba8a2ef",
   "metadata": {},
   "outputs": [],
   "source": [
    "model.save_weights(f'./logs/model/Heston_T={config.total_time}_X={config.x_init}', save_format='tf')"
   ]
  },
  {
   "cell_type": "markdown",
   "id": "0cbd1433",
   "metadata": {},
   "source": [
    "## Accuracy of the model"
   ]
  },
  {
   "cell_type": "markdown",
   "id": "62b6a622",
   "metadata": {},
   "source": [
    "The test sample size is chosen to be 10,000, i.e. we simulate 10,000 trajectories of $(X,Y,Z)$. The histogram shows the distribution of the terminal values of $Y$ and $Z$. $Y_T$ is expected to be $0$ which is the boundary condtion."
   ]
  },
  {
   "cell_type": "code",
   "execution_count": 21,
   "id": "c535c7e7",
   "metadata": {},
   "outputs": [
    {
     "name": "stdout",
     "output_type": "stream",
     "text": [
      "Epoch: 1 Elapsed time:  20.207012176513672 y0:  1.14228189 z0:  -0.041505482 Test loss:  3.21562584e-05 lr:  0.01\n"
     ]
    }
   ],
   "source": [
    "model = Merged(equation, y0=1.0)\n",
    "model.custom_fit(train_ds=train_ds, test_ds=test_ds, epochs=1)\n",
    "model.load_weights('./logs/model/Heston_T=2_X=0.25')\n",
    "sample_size = 10000\n",
    "np.random.seed(1)\n",
    "sample_dw = np.random.normal(0, equation.sqrt_delta_t, (sample_size, equation.dim * equation.num_time_interval))\n",
    "y_T, x_T, _ = model.call(sample_dw)\n",
    "T = tf.broadcast_to(tf.cast(equation.total_time,dtype=tf.float32), [sample_size, 1])\n",
    "features = tf.concat([x_T, T, y_T], axis=1)\n",
    "z_T = model.nn_z(features)"
   ]
  },
  {
   "cell_type": "code",
   "execution_count": 23,
   "id": "7683dee2",
   "metadata": {
    "scrolled": false
   },
   "outputs": [
    {
     "data": {
      "image/png": "[encoded data removed]",
      "text/plain": [
       "<Figure size 1152x432 with 2 Axes>"
      ]
     },
     "metadata": {
      "needs_background": "light"
     },
     "output_type": "display_data"
    }
   ],
   "source": [
    "fig = plt.figure(figsize=(16,6))\n",
    "gs = fig.add_gridspec(1, 2)\n",
    "ax1 = fig.add_subplot(gs[0, 0])\n",
    "ax2 = fig.add_subplot(gs[0, 1])\n",
    "ax1.hist(y_T.numpy(), bins=100)\n",
    "ax1.set_title(f'histogram of Y_T,T={equation.total_time}')\n",
    "ax2.hist(z_T.numpy(),bins=100)\n",
    "ax2.set_title(f'histogram of Z_T,T={equation.total_time}')\n",
    "plt.show()"
   ]
  },
  {
   "cell_type": "markdown",
   "id": "0ea25071",
   "metadata": {},
   "source": [
    "# Longer investment Horizon T=10 years"
   ]
  },
  {
   "cell_type": "markdown",
   "id": "4d3654d0",
   "metadata": {},
   "source": [
    "## Generate trainig data"
   ]
  },
  {
   "cell_type": "code",
   "execution_count": 24,
   "id": "ec1d764c",
   "metadata": {},
   "outputs": [],
   "source": [
    "config.total_time = 10\n",
    "config.num_time_interval = 500\n",
    "equation = get_equation(problem_name+'_poly', config)\n",
    "batch_size = 512\n",
    "test_size = 1280\n",
    "n_epochs = 40\n",
    "total_sample_size = batch_size * n_epochs + test_size\n",
    "test_size_ratio = test_size / total_sample_size\n",
    "np.random.seed(1)\n",
    "sample_dw = np.random.normal(0, equation.sqrt_delta_t, (total_sample_size, equation.dim * equation.num_time_interval))\n",
    "input_data = sample_dw\n",
    "outcome_data = np.zeros([total_sample_size, 1])\n",
    "X_train, X_test, y_train, y_test = train_test_split( input_data, outcome_data, test_size=test_size_ratio, random_state=42)\n",
    "train_ds = tf.data.Dataset.from_tensor_slices(X_train).batch(batch_size)\n",
    "test_ds = tf.data.Dataset.from_tensor_slices(X_test).batch(test_size)"
   ]
  },
  {
   "cell_type": "markdown",
   "id": "e80ce5f7",
   "metadata": {},
   "source": [
    "## Exact Solution"
   ]
  },
  {
   "cell_type": "code",
   "execution_count": 25,
   "id": "d1f6b688",
   "metadata": {},
   "outputs": [
    {
     "name": "stdout",
     "output_type": "stream",
     "text": [
      "Y0_true: 3.9580, Z0_true: -0.2099\n"
     ]
    }
   ],
   "source": [
    "exact_solution(equation)"
   ]
  },
  {
   "cell_type": "code",
   "execution_count": 28,
   "id": "baf52cdd",
   "metadata": {
    "scrolled": true
   },
   "outputs": [
    {
     "name": "stdout",
     "output_type": "stream",
     "text": [
      "Epoch: 1 Elapsed time:  131.9969038963318 y0:  1.39382172 z0:  0.0191270225 Test loss:  58.1573 lr:  0.01\n",
      "Epoch: 2 Elapsed time:  144.07839369773865 y0:  1.76291478 z0:  0.0316581875 Test loss:  42.6110458 lr:  0.01\n",
      "Epoch: 3 Elapsed time:  155.7878336906433 y0:  2.10130358 z0:  0.0399933942 Test loss:  30.4834194 lr:  0.01\n",
      "Epoch: 4 Elapsed time:  167.61972737312317 y0:  2.40749145 z0:  0.0438060425 Test loss:  21.25387 lr:  0.01\n",
      "Epoch: 5 Elapsed time:  179.36330938339233 y0:  2.68072462 z0:  0.043168813 Test loss:  14.4192753 lr:  0.01\n",
      "Epoch: 6 Elapsed time:  191.06848788261414 y0:  2.9209187 z0:  0.0383905359 Test loss:  9.50308323 lr:  0.01\n",
      "Epoch: 7 Elapsed time:  202.77178955078125 y0:  3.12863088 z0:  0.029905783 Test loss:  6.07531071 lr:  0.01\n",
      "Epoch: 8 Elapsed time:  214.61134934425354 y0:  3.30512214 z0:  0.018269103 Test loss:  3.76296163 lr:  0.01\n",
      "Epoch: 9 Elapsed time:  226.11560320854187 y0:  3.45232558 z0:  0.00411649467 Test loss:  2.25598 lr:  0.01\n",
      "Epoch: 10 Elapsed time:  237.81806230545044 y0:  3.57275629 z0:  -0.0118814325 Test loss:  1.3082639 lr:  0.01\n",
      "Epoch: 11 Elapsed time:  249.63308358192444 y0:  3.66935587 z0:  -0.0290596467 Test loss:  0.733691514 lr:  0.01\n",
      "Epoch: 12 Elapsed time:  261.4768853187561 y0:  3.7453053 z0:  -0.0467945226 Test loss:  0.397991359 lr:  0.01\n",
      "Epoch: 13 Elapsed time:  273.26895332336426 y0:  3.80383277 z0:  -0.0645340607 Test loss:  0.208928794 lr:  0.01\n",
      "Epoch: 14 Elapsed time:  285.06725788116455 y0:  3.84803915 z0:  -0.0818156898 Test loss:  0.106240965 lr:  0.01\n",
      "Epoch: 15 Elapsed time:  296.8783748149872 y0:  3.88076544 z0:  -0.0982753783 Test loss:  0.0524297059 lr:  0.01\n",
      "Epoch: 16 Elapsed time:  308.6863281726837 y0:  3.90451646 z0:  -0.113646433 Test loss:  0.0251928084 lr:  0.01\n",
      "Epoch: 17 Elapsed time:  320.657253742218 y0:  3.921417 z0:  -0.127751663 Test loss:  0.0118497163 lr:  0.01\n",
      "Epoch: 18 Elapsed time:  332.3214647769928 y0:  3.93320704 z0:  -0.140492186 Test loss:  0.005503539 lr:  0.01\n",
      "Epoch: 19 Elapsed time:  344.2905023097992 y0:  3.94127297 z0:  -0.151834607 Test loss:  0.00255630934 lr:  0.01\n",
      "Epoch: 20 Elapsed time:  355.9627537727356 y0:  3.94668531 z0:  -0.161797985 Test loss:  0.00120791723 lr:  0.01\n",
      "Epoch: 21 Elapsed time:  368.379177570343 y0:  3.95024729 z0:  -0.170441046 Test loss:  0.000592054741 lr:  0.01\n",
      "Epoch: 22 Elapsed time:  380.6782364845276 y0:  3.95254779 z0:  -0.177850872 Test loss:  0.00030585975 lr:  0.01\n",
      "Epoch: 23 Elapsed time:  392.53781628608704 y0:  3.95400548 z0:  -0.184132785 Test loss:  0.000167773789 lr:  0.01\n",
      "Epoch: 24 Elapsed time:  404.7363784313202 y0:  3.9549129 z0:  -0.189401746 Test loss:  9.73770366e-05 lr:  0.01\n",
      "Epoch: 25 Elapsed time:  416.5501883029938 y0:  3.95546699 z0:  -0.193775952 Test loss:  5.93094665e-05 lr:  0.01\n",
      "Epoch: 26 Elapsed time:  428.5414457321167 y0:  3.95580077 z0:  -0.197371423 Test loss:  3.76265161e-05 lr:  0.01\n",
      "Epoch: 27 Elapsed time:  440.19911456108093 y0:  3.95599866 z0:  -0.20029819 Test loss:  2.48563701e-05 lr:  0.01\n",
      "Epoch: 28 Elapsed time:  451.9743478298187 y0:  3.95611382 z0:  -0.202658162 Test loss:  1.72102209e-05 lr:  0.01\n",
      "Epoch: 29 Elapsed time:  463.8980209827423 y0:  3.95618153 z0:  -0.204543352 Test loss:  1.26077821e-05 lr:  0.01\n",
      "Epoch: 30 Elapsed time:  475.45918226242065 y0:  3.95622158 z0:  -0.206035405 Test loss:  9.84370399e-06 lr:  0.01\n",
      "Epoch: 31 Elapsed time:  487.4235327243805 y0:  3.95624423 z0:  -0.207205459 Test loss:  8.19214438e-06 lr:  0.01\n",
      "Epoch: 32 Elapsed time:  499.18692779541016 y0:  3.9562571 z0:  -0.208114564 Test loss:  7.20455273e-06 lr:  0.01\n",
      "Epoch: 33 Elapsed time:  511.1028833389282 y0:  3.95626593 z0:  -0.208814368 Test loss:  6.60641035e-06 lr:  0.01\n",
      "Epoch: 34 Elapsed time:  522.6795399188995 y0:  3.95627 z0:  -0.209348157 Test loss:  6.23458618e-06 lr:  0.01\n",
      "Epoch: 35 Elapsed time:  534.1250009536743 y0:  3.95627236 z0:  -0.209751412 Test loss:  5.9902568e-06 lr:  0.01\n",
      "Epoch: 36 Elapsed time:  545.9886050224304 y0:  3.95627451 z0:  -0.21005322 Test loss:  5.81590803e-06 lr:  0.01\n",
      "Epoch: 37 Elapsed time:  557.7318696975708 y0:  3.95627642 z0:  -0.210276946 Test loss:  5.67786401e-06 lr:  0.01\n",
      "Epoch: 38 Elapsed time:  569.3509550094604 y0:  3.95627809 z0:  -0.210441172 Test loss:  5.56172927e-06 lr:  0.01\n",
      "Epoch: 39 Elapsed time:  581.0108923912048 y0:  3.95627928 z0:  -0.210560575 Test loss:  5.45595094e-06 lr:  0.005\n",
      "Epoch: 40 Elapsed time:  592.7499558925629 y0:  3.95627975 z0:  -0.210646421 Test loss:  5.35499794e-06 lr:  0.0025\n"
     ]
    }
   ],
   "source": [
    "model = Merged(equation, y0=1.0)\n",
    "history = model.custom_fit(train_ds=train_ds, test_ds=test_ds, epochs=n_epochs)"
   ]
  },
  {
   "cell_type": "code",
   "execution_count": null,
   "id": "a66dd51e",
   "metadata": {},
   "outputs": [],
   "source": [
    "model.save_weights(f'./logs/model/Heston_T={10}_X={config.x_init}', save_format='tf')"
   ]
  },
  {
   "cell_type": "markdown",
   "id": "60ff8601",
   "metadata": {},
   "source": [
    "## Accuracy of the model"
   ]
  },
  {
   "cell_type": "code",
   "execution_count": 26,
   "id": "cd63dcea",
   "metadata": {},
   "outputs": [
    {
     "name": "stdout",
     "output_type": "stream",
     "text": [
      "Epoch: 1 Elapsed time:  133.53315043449402 y0:  1.39374626 z0:  0.0192559082 Test loss:  58.1620407 lr:  0.01\n"
     ]
    }
   ],
   "source": [
    "model = Merged(equation, y0=1.0)\n",
    "model.custom_fit(train_ds=train_ds, test_ds=test_ds, epochs=1)\n",
    "model.load_weights('./logs/model/Heston_T=10_X=0.25')\n",
    "sample_size = 10000\n",
    "np.random.seed(1)\n",
    "sample_dw = np.random.normal(0, equation.sqrt_delta_t, (sample_size, equation.dim * equation.num_time_interval))\n",
    "y_T, x_T, _ = model.call(sample_dw)\n",
    "T = tf.broadcast_to(tf.cast(equation.total_time,dtype=tf.float32), [sample_size, 1])\n",
    "features = tf.concat([x_T, T, y_T], axis=1)\n",
    "z_T = model.nn_z(features)"
   ]
  },
  {
   "cell_type": "code",
   "execution_count": 27,
   "id": "d4fcad2a",
   "metadata": {},
   "outputs": [
    {
     "data": {
      "image/png": "[encoded data removed]",
      "text/plain": [
       "<Figure size 1440x576 with 2 Axes>"
      ]
     },
     "metadata": {
      "needs_background": "light"
     },
     "output_type": "display_data"
    }
   ],
   "source": [
    "fig = plt.figure(figsize=(20,8))\n",
    "gs = fig.add_gridspec(1, 2)\n",
    "ax1 = fig.add_subplot(gs[0, 0])\n",
    "ax2 = fig.add_subplot(gs[0, 1])\n",
    "ax1.hist(y_T.numpy(), bins=100, range=(-0.02, 0.02))\n",
    "ax1.set_title(f'histogram of Y_T,T={equation.total_time}')\n",
    "ax2.hist(z_T.numpy(),bins=100)\n",
    "ax2.set_title(f'histogram of Z_T,T={equation.total_time}')\n",
    "plt.show()"
   ]
  }
 ],
 "metadata": {
  "kernelspec": {
   "display_name": "Python 3",
   "language": "python",
   "name": "python3"
  },
  "language_info": {
   "codemirror_mode": {
    "name": "ipython",
    "version": 3
   },
   "file_extension": ".py",
   "mimetype": "text/x-python",
   "name": "python",
   "nbconvert_exporter": "python",
   "pygments_lexer": "ipython3",
   "version": "3.8.10"
  }
 },
 "nbformat": 4,
 "nbformat_minor": 5
}
